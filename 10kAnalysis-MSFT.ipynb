{
 "cells": [
  {
   "cell_type": "code",
   "execution_count": null,
   "metadata": {},
   "outputs": [],
   "source": [
    "# from https://colab.research.google.com/drive/1uL1TdMbR4kqa0Ksrd_Of_jWSxWt1ia7o?usp=sharing#scrollTo=c48a272c-8e87-4740-9960-129d7d5943bb\n",
    "# https://betterprogramming.pub/llamaindex-deep-lake-for-financial-statement-analysis-954f2b789c8e\n"
   ]
  },
  {
   "cell_type": "code",
   "execution_count": null,
   "metadata": {},
   "outputs": [],
   "source": [
    "# for colab https://colab.research.google.com/github/druce/question_answering_over_docs/blob/main/10kAnalysis.ipynb\n",
    "\n",
    "# # if using colab\n",
    "# import os\n",
    "# OPENAI_API_KEY=\"<mykey>\"\n",
    "# os.environ[\"OPENAI_API_KEY\"] = OPENAI_API_KEY\n",
    "\n",
    "# !pip install llama-index pytesseract pdf2image\n",
    "\n",
    "!pip uninstall rich\n",
    "!pip install rich==13.0.1\n",
    "!pip install langchain\n",
    "!pip install unstructured\n",
    "!pip install openai\n",
    "!pip install chromadb\n",
    "!pip install tiktoken\n",
    "\n"
   ]
  },
  {
   "cell_type": "code",
   "execution_count": 1,
   "metadata": {},
   "outputs": [
    {
     "data": {
      "text/plain": [
       "True"
      ]
     },
     "execution_count": 1,
     "metadata": {},
     "output_type": "execute_result"
    }
   ],
   "source": [
    "import sys\n",
    "import os\n",
    "from datetime import datetime\n",
    "from IPython.display import Markdown, display\n",
    "from ipywidgets import interact, widgets\n",
    "from pathlib import Path\n",
    "import panel as pn  # GUI\n",
    "\n",
    "import logging\n",
    "logging.basicConfig(stream=sys.stdout, level=logging.INFO)\n",
    "logging.getLogger().addHandler(logging.StreamHandler(stream=sys.stdout))\n",
    "\n",
    "# from llama_index import download_loader, ServiceContext, StorageContext, load_index_from_storage, GPTVectorStoreIndex\n",
    "# from llama_index import GPTListIndex, LLMPredictor\n",
    "# from llama_index.composability import ComposableGraph\n",
    "\n",
    "import langchain\n",
    "from langchain import OpenAI\n",
    "from langchain.chat_models import ChatOpenAI\n",
    "from langchain.document_loaders import UnstructuredFileLoader\n",
    "from langchain.indexes import VectorstoreIndexCreator\n",
    "from langchain.text_splitter import CharacterTextSplitter\n",
    "from langchain.embeddings import OpenAIEmbeddings\n",
    "from langchain.vectorstores import Chroma\n",
    "from langchain.chains import RetrievalQA, ConversationChain, ConversationalRetrievalChain\n",
    "from langchain.prompts import PromptTemplate\n",
    "from langchain.memory import ConversationSummaryBufferMemory\n",
    "\n",
    "# if using dotenv with .env and OPENAI_API_KEY=<mykey>\n",
    "import dotenv\n",
    "dotenv.load_dotenv()\n",
    "\n",
    "# if using colab\n",
    "# OPENAI_API_KEY=\"<mykey>\"\n",
    "# os.environ[\"OPENAI_API_KEY\"] = OPENAI_API_KEY\n"
   ]
  },
  {
   "cell_type": "code",
   "execution_count": 2,
   "metadata": {},
   "outputs": [
    {
     "name": "stdout",
     "output_type": "stream",
     "text": [
      "\n",
      "\n",
      "\u001b[1m> Entering new  chain...\u001b[0m\n",
      "Prompt after formatting:\n",
      "\u001b[32;1m\u001b[1;3mSystem: The following is a friendly conversation between a human \n",
      "and an expert ornithologist AI specializing in migratory birds. The ornithologist AI is talkative and \n",
      "provides lots of specific details from its context. If the ornithologist AI does not know the answer to a question, \n",
      "it truthfully says it does not know.\n",
      "Human: what is the airspeed velocity of an unladen swallow?\u001b[0m\n",
      "\n",
      "\u001b[1m> Finished chain.\u001b[0m\n",
      "The airspeed velocity of an unladen swallow varies depending on the species and size of the bird. For example, the airspeed velocity of a European Swallow is about 11 meters per second or 24 miles per hour. However, the airspeed velocity of a Barn Swallow is slightly slower, at around 9 meters per second or 20 miles per hour. It's important to note that these speeds are for birds in level flight and may vary depending on other factors such as wind speed and direction.\n"
     ]
    }
   ],
   "source": [
    "# conversational chain that remembers history\n",
    "\n",
    "from langchain.schema import (\n",
    "    AIMessage,\n",
    "    HumanMessage,\n",
    "    SystemMessage\n",
    ")\n",
    "\n",
    "from langchain.prompts import (\n",
    "    ChatPromptTemplate, \n",
    "    MessagesPlaceholder, \n",
    "    SystemMessagePromptTemplate, \n",
    "    HumanMessagePromptTemplate\n",
    ")\n",
    "from langchain.chains import ConversationChain\n",
    "from langchain.chat_models import ChatOpenAI\n",
    "from langchain.memory import ConversationBufferMemory\n",
    "\n",
    "llm = ChatOpenAI(model_name=\"gpt-3.5-turbo\",temperature=0.3)\n",
    "\n",
    "prompt = ChatPromptTemplate.from_messages([\n",
    "    SystemMessagePromptTemplate.from_template(\"\"\"The following is a friendly conversation between a human \n",
    "and an expert ornithologist AI specializing in migratory birds. The ornithologist AI is talkative and \n",
    "provides lots of specific details from its context. If the ornithologist AI does not know the answer to a question, \n",
    "it truthfully says it does not know.\"\"\"),\n",
    "    MessagesPlaceholder(variable_name=\"history\"),\n",
    "    HumanMessagePromptTemplate.from_template(\"{input}\")\n",
    "])\n",
    "\n",
    "memory = ConversationBufferMemory(return_messages=True)\n",
    "\n",
    "conversation = ConversationChain(llm=llm, memory=memory, prompt=prompt, verbose=True)\n",
    "\n",
    "print(conversation.predict(input=\"what is the airspeed velocity of an unladen swallow?\"))\n"
   ]
  },
  {
   "cell_type": "code",
   "execution_count": 4,
   "metadata": {},
   "outputs": [
    {
     "name": "stdout",
     "output_type": "stream",
     "text": [
      "\n",
      "\n",
      "\u001b[1m> Entering new  chain...\u001b[0m\n",
      "Prompt after formatting:\n",
      "\u001b[32;1m\u001b[1;3mSystem: The following is a friendly conversation between a human \n",
      "and an expert ornithologist AI specializing in migratory birds. The ornithologist AI is talkative and \n",
      "provides lots of specific details from its context. If the ornithologist AI does not know the answer to a question, \n",
      "it truthfully says it does not know.\n",
      "Human: what is the airspeed velocity of an unladen swallow?\n",
      "AI: The airspeed velocity of an unladen swallow varies depending on the species and size of the bird. For example, the airspeed velocity of a European Swallow is about 11 meters per second or 24 miles per hour. However, the airspeed velocity of a Barn Swallow is slightly slower, at around 9 meters per second or 20 miles per hour. It's important to note that these speeds are for birds in level flight and may vary depending on other factors such as wind speed and direction.\n",
      "Human: what is the migratory bird that travels the longest distance?\u001b[0m\n",
      "\n",
      "\u001b[1m> Finished chain.\u001b[0m\n",
      "The bird that holds the record for the longest migration distance is the Arctic Tern. These birds travel from their breeding grounds in the Arctic to their non-breeding grounds in the Antarctic and back again each year, covering a distance of up to 44,000 miles (71,000 km) round trip. This means that an individual Arctic Tern can travel the equivalent of three round trips to the Moon in its lifetime! Other birds with long migration distances include the Sooty Shearwater, which travels up to 39,000 miles (62,000 km) round trip, and the Bar-tailed Godwit, which flies up to 11,000 km (6,800 miles) non-stop on its migration.\n"
     ]
    }
   ],
   "source": [
    "print(conversation.predict(input=\"what is the migratory bird that travels the longest distance?\"))\n"
   ]
  },
  {
   "cell_type": "markdown",
   "metadata": {},
   "source": [
    "## Ingest data"
   ]
  },
  {
   "cell_type": "code",
   "execution_count": 5,
   "metadata": {},
   "outputs": [
    {
     "name": "stdout",
     "output_type": "stream",
     "text": [
      "INFO:unstructured:Reading document from string ...\n",
      "Reading document from string ...\n",
      "INFO:unstructured:Reading document ...\n",
      "Reading document ...\n",
      "Number of chunks: 37\n",
      "Average length: 4499.0\n",
      "Max length: 79127\n"
     ]
    },
    {
     "data": {
      "text/plain": [
       "'Satya\\xa0Nadella                         54               Chairman of the Board and Chief Executive Officer\\nJudson Althoff                        49               Executive Vice President and Chief Commercial Officer\\nChristopher\\xa0C.\\xa0Capossela              52               Executive Vice President, Marketing and Consumer Business, and Chief Marketing Officer\\nKathleen T. Hogan                     56    '"
      ]
     },
     "execution_count": 5,
     "metadata": {},
     "output_type": "execute_result"
    }
   ],
   "source": [
    "# extract raw text from markdown\n",
    "# https://unstructured.io ; https://github.com/Unstructured-IO/unstructured\n",
    "\n",
    "loader = UnstructuredFileLoader(\"./abbrev.md\", mode='elements')\n",
    "chunks = loader.load()\n",
    "print(f\"Number of chunks: {len(chunks)}\")\n",
    "print(f\"Average length:\", sum([len(d.page_content) for d in chunks])/len(chunks))\n",
    "print(f\"Max length:\", max([len(d.page_content) for d in chunks]))\n",
    "chunks[1].page_content[:400]\n",
    "\n"
   ]
  },
  {
   "cell_type": "code",
   "execution_count": 21,
   "metadata": {},
   "outputs": [
    {
     "data": {
      "text/plain": [
       "'Net income                                      $     72,738             $     61,271             $     44,281'"
      ]
     },
     "execution_count": 21,
     "metadata": {},
     "output_type": "execute_result"
    }
   ],
   "source": [
    "chunks[10].page_content[:400]\n"
   ]
  },
  {
   "cell_type": "code",
   "execution_count": 7,
   "metadata": {},
   "outputs": [
    {
     "name": "stdout",
     "output_type": "stream",
     "text": [
      "WARNING:langchain.text_splitter:Created a chunk of size 541, which is longer than the specified 512\n",
      "Created a chunk of size 541, which is longer than the specified 512\n",
      "WARNING:langchain.text_splitter:Created a chunk of size 662, which is longer than the specified 512\n",
      "Created a chunk of size 662, which is longer than the specified 512\n",
      "WARNING:langchain.text_splitter:Created a chunk of size 657, which is longer than the specified 512\n",
      "Created a chunk of size 657, which is longer than the specified 512\n",
      "WARNING:langchain.text_splitter:Created a chunk of size 1241, which is longer than the specified 512\n",
      "Created a chunk of size 1241, which is longer than the specified 512\n",
      "WARNING:langchain.text_splitter:Created a chunk of size 802, which is longer than the specified 512\n",
      "Created a chunk of size 802, which is longer than the specified 512\n",
      "WARNING:langchain.text_splitter:Created a chunk of size 683, which is longer than the specified 512\n",
      "Created a chunk of size 683, which is longer than the specified 512\n",
      "WARNING:langchain.text_splitter:Created a chunk of size 906, which is longer than the specified 512\n",
      "Created a chunk of size 906, which is longer than the specified 512\n",
      "WARNING:langchain.text_splitter:Created a chunk of size 597, which is longer than the specified 512\n",
      "Created a chunk of size 597, which is longer than the specified 512\n",
      "WARNING:langchain.text_splitter:Created a chunk of size 573, which is longer than the specified 512\n",
      "Created a chunk of size 573, which is longer than the specified 512\n",
      "WARNING:langchain.text_splitter:Created a chunk of size 521, which is longer than the specified 512\n",
      "Created a chunk of size 521, which is longer than the specified 512\n",
      "WARNING:langchain.text_splitter:Created a chunk of size 1090, which is longer than the specified 512\n",
      "Created a chunk of size 1090, which is longer than the specified 512\n",
      "WARNING:langchain.text_splitter:Created a chunk of size 552, which is longer than the specified 512\n",
      "Created a chunk of size 552, which is longer than the specified 512\n",
      "WARNING:langchain.text_splitter:Created a chunk of size 914, which is longer than the specified 512\n",
      "Created a chunk of size 914, which is longer than the specified 512\n",
      "WARNING:langchain.text_splitter:Created a chunk of size 683, which is longer than the specified 512\n",
      "Created a chunk of size 683, which is longer than the specified 512\n",
      "WARNING:langchain.text_splitter:Created a chunk of size 662, which is longer than the specified 512\n",
      "Created a chunk of size 662, which is longer than the specified 512\n",
      "WARNING:langchain.text_splitter:Created a chunk of size 727, which is longer than the specified 512\n",
      "Created a chunk of size 727, which is longer than the specified 512\n",
      "WARNING:langchain.text_splitter:Created a chunk of size 812, which is longer than the specified 512\n",
      "Created a chunk of size 812, which is longer than the specified 512\n",
      "WARNING:langchain.text_splitter:Created a chunk of size 647, which is longer than the specified 512\n",
      "Created a chunk of size 647, which is longer than the specified 512\n",
      "WARNING:langchain.text_splitter:Created a chunk of size 913, which is longer than the specified 512\n",
      "Created a chunk of size 913, which is longer than the specified 512\n",
      "WARNING:langchain.text_splitter:Created a chunk of size 574, which is longer than the specified 512\n",
      "Created a chunk of size 574, which is longer than the specified 512\n",
      "WARNING:langchain.text_splitter:Created a chunk of size 873, which is longer than the specified 512\n",
      "Created a chunk of size 873, which is longer than the specified 512\n",
      "WARNING:langchain.text_splitter:Created a chunk of size 521, which is longer than the specified 512\n",
      "Created a chunk of size 521, which is longer than the specified 512\n",
      "WARNING:langchain.text_splitter:Created a chunk of size 777, which is longer than the specified 512\n",
      "Created a chunk of size 777, which is longer than the specified 512\n",
      "WARNING:langchain.text_splitter:Created a chunk of size 791, which is longer than the specified 512\n",
      "Created a chunk of size 791, which is longer than the specified 512\n",
      "WARNING:langchain.text_splitter:Created a chunk of size 916, which is longer than the specified 512\n",
      "Created a chunk of size 916, which is longer than the specified 512\n",
      "WARNING:langchain.text_splitter:Created a chunk of size 749, which is longer than the specified 512\n",
      "Created a chunk of size 749, which is longer than the specified 512\n",
      "WARNING:langchain.text_splitter:Created a chunk of size 657, which is longer than the specified 512\n",
      "Created a chunk of size 657, which is longer than the specified 512\n",
      "WARNING:langchain.text_splitter:Created a chunk of size 692, which is longer than the specified 512\n",
      "Created a chunk of size 692, which is longer than the specified 512\n",
      "WARNING:langchain.text_splitter:Created a chunk of size 1768, which is longer than the specified 512\n",
      "Created a chunk of size 1768, which is longer than the specified 512\n",
      "WARNING:langchain.text_splitter:Created a chunk of size 601, which is longer than the specified 512\n",
      "Created a chunk of size 601, which is longer than the specified 512\n",
      "WARNING:langchain.text_splitter:Created a chunk of size 1237, which is longer than the specified 512\n",
      "Created a chunk of size 1237, which is longer than the specified 512\n",
      "WARNING:langchain.text_splitter:Created a chunk of size 569, which is longer than the specified 512\n",
      "Created a chunk of size 569, which is longer than the specified 512\n",
      "WARNING:langchain.text_splitter:Created a chunk of size 734, which is longer than the specified 512\n",
      "Created a chunk of size 734, which is longer than the specified 512\n",
      "WARNING:langchain.text_splitter:Created a chunk of size 1027, which is longer than the specified 512\n",
      "Created a chunk of size 1027, which is longer than the specified 512\n",
      "WARNING:langchain.text_splitter:Created a chunk of size 827, which is longer than the specified 512\n",
      "Created a chunk of size 827, which is longer than the specified 512\n",
      "WARNING:langchain.text_splitter:Created a chunk of size 716, which is longer than the specified 512\n",
      "Created a chunk of size 716, which is longer than the specified 512\n",
      "WARNING:langchain.text_splitter:Created a chunk of size 754, which is longer than the specified 512\n",
      "Created a chunk of size 754, which is longer than the specified 512\n",
      "WARNING:langchain.text_splitter:Created a chunk of size 572, which is longer than the specified 512\n",
      "Created a chunk of size 572, which is longer than the specified 512\n",
      "WARNING:langchain.text_splitter:Created a chunk of size 610, which is longer than the specified 512\n",
      "Created a chunk of size 610, which is longer than the specified 512\n",
      "WARNING:langchain.text_splitter:Created a chunk of size 827, which is longer than the specified 512\n",
      "Created a chunk of size 827, which is longer than the specified 512\n",
      "WARNING:langchain.text_splitter:Created a chunk of size 812, which is longer than the specified 512\n",
      "Created a chunk of size 812, which is longer than the specified 512\n",
      "WARNING:langchain.text_splitter:Created a chunk of size 706, which is longer than the specified 512\n",
      "Created a chunk of size 706, which is longer than the specified 512\n",
      "WARNING:langchain.text_splitter:Created a chunk of size 674, which is longer than the specified 512\n",
      "Created a chunk of size 674, which is longer than the specified 512\n",
      "WARNING:langchain.text_splitter:Created a chunk of size 726, which is longer than the specified 512\n",
      "Created a chunk of size 726, which is longer than the specified 512\n",
      "WARNING:langchain.text_splitter:Created a chunk of size 1380, which is longer than the specified 512\n",
      "Created a chunk of size 1380, which is longer than the specified 512\n",
      "WARNING:langchain.text_splitter:Created a chunk of size 725, which is longer than the specified 512\n",
      "Created a chunk of size 725, which is longer than the specified 512\n",
      "WARNING:langchain.text_splitter:Created a chunk of size 591, which is longer than the specified 512\n",
      "Created a chunk of size 591, which is longer than the specified 512\n",
      "WARNING:langchain.text_splitter:Created a chunk of size 676, which is longer than the specified 512\n",
      "Created a chunk of size 676, which is longer than the specified 512\n",
      "WARNING:langchain.text_splitter:Created a chunk of size 589, which is longer than the specified 512\n",
      "Created a chunk of size 589, which is longer than the specified 512\n"
     ]
    },
    {
     "name": "stdout",
     "output_type": "stream",
     "text": [
      "WARNING:langchain.text_splitter:Created a chunk of size 608, which is longer than the specified 512\n",
      "Created a chunk of size 608, which is longer than the specified 512\n",
      "WARNING:langchain.text_splitter:Created a chunk of size 529, which is longer than the specified 512\n",
      "Created a chunk of size 529, which is longer than the specified 512\n",
      "WARNING:langchain.text_splitter:Created a chunk of size 764, which is longer than the specified 512\n",
      "Created a chunk of size 764, which is longer than the specified 512\n",
      "WARNING:langchain.text_splitter:Created a chunk of size 609, which is longer than the specified 512\n",
      "Created a chunk of size 609, which is longer than the specified 512\n",
      "WARNING:langchain.text_splitter:Created a chunk of size 676, which is longer than the specified 512\n",
      "Created a chunk of size 676, which is longer than the specified 512\n",
      "WARNING:langchain.text_splitter:Created a chunk of size 564, which is longer than the specified 512\n",
      "Created a chunk of size 564, which is longer than the specified 512\n",
      "WARNING:langchain.text_splitter:Created a chunk of size 640, which is longer than the specified 512\n",
      "Created a chunk of size 640, which is longer than the specified 512\n",
      "WARNING:langchain.text_splitter:Created a chunk of size 514, which is longer than the specified 512\n",
      "Created a chunk of size 514, which is longer than the specified 512\n",
      "WARNING:langchain.text_splitter:Created a chunk of size 645, which is longer than the specified 512\n",
      "Created a chunk of size 645, which is longer than the specified 512\n",
      "WARNING:langchain.text_splitter:Created a chunk of size 820, which is longer than the specified 512\n",
      "Created a chunk of size 820, which is longer than the specified 512\n",
      "WARNING:langchain.text_splitter:Created a chunk of size 1048, which is longer than the specified 512\n",
      "Created a chunk of size 1048, which is longer than the specified 512\n",
      "WARNING:langchain.text_splitter:Created a chunk of size 858, which is longer than the specified 512\n",
      "Created a chunk of size 858, which is longer than the specified 512\n",
      "WARNING:langchain.text_splitter:Created a chunk of size 516, which is longer than the specified 512\n",
      "Created a chunk of size 516, which is longer than the specified 512\n",
      "WARNING:langchain.text_splitter:Created a chunk of size 1352, which is longer than the specified 512\n",
      "Created a chunk of size 1352, which is longer than the specified 512\n",
      "WARNING:langchain.text_splitter:Created a chunk of size 1756, which is longer than the specified 512\n",
      "Created a chunk of size 1756, which is longer than the specified 512\n",
      "WARNING:langchain.text_splitter:Created a chunk of size 1810, which is longer than the specified 512\n",
      "Created a chunk of size 1810, which is longer than the specified 512\n",
      "WARNING:langchain.text_splitter:Created a chunk of size 1126, which is longer than the specified 512\n",
      "Created a chunk of size 1126, which is longer than the specified 512\n",
      "WARNING:langchain.text_splitter:Created a chunk of size 1611, which is longer than the specified 512\n",
      "Created a chunk of size 1611, which is longer than the specified 512\n",
      "WARNING:langchain.text_splitter:Created a chunk of size 1083, which is longer than the specified 512\n",
      "Created a chunk of size 1083, which is longer than the specified 512\n",
      "WARNING:langchain.text_splitter:Created a chunk of size 1993, which is longer than the specified 512\n",
      "Created a chunk of size 1993, which is longer than the specified 512\n",
      "WARNING:langchain.text_splitter:Created a chunk of size 1207, which is longer than the specified 512\n",
      "Created a chunk of size 1207, which is longer than the specified 512\n",
      "WARNING:langchain.text_splitter:Created a chunk of size 735, which is longer than the specified 512\n",
      "Created a chunk of size 735, which is longer than the specified 512\n",
      "WARNING:langchain.text_splitter:Created a chunk of size 956, which is longer than the specified 512\n",
      "Created a chunk of size 956, which is longer than the specified 512\n",
      "WARNING:langchain.text_splitter:Created a chunk of size 1291, which is longer than the specified 512\n",
      "Created a chunk of size 1291, which is longer than the specified 512\n",
      "WARNING:langchain.text_splitter:Created a chunk of size 2195, which is longer than the specified 512\n",
      "Created a chunk of size 2195, which is longer than the specified 512\n",
      "WARNING:langchain.text_splitter:Created a chunk of size 636, which is longer than the specified 512\n",
      "Created a chunk of size 636, which is longer than the specified 512\n",
      "WARNING:langchain.text_splitter:Created a chunk of size 875, which is longer than the specified 512\n",
      "Created a chunk of size 875, which is longer than the specified 512\n",
      "WARNING:langchain.text_splitter:Created a chunk of size 809, which is longer than the specified 512\n",
      "Created a chunk of size 809, which is longer than the specified 512\n",
      "WARNING:langchain.text_splitter:Created a chunk of size 1365, which is longer than the specified 512\n",
      "Created a chunk of size 1365, which is longer than the specified 512\n",
      "WARNING:langchain.text_splitter:Created a chunk of size 1421, which is longer than the specified 512\n",
      "Created a chunk of size 1421, which is longer than the specified 512\n",
      "WARNING:langchain.text_splitter:Created a chunk of size 2036, which is longer than the specified 512\n",
      "Created a chunk of size 2036, which is longer than the specified 512\n",
      "WARNING:langchain.text_splitter:Created a chunk of size 881, which is longer than the specified 512\n",
      "Created a chunk of size 881, which is longer than the specified 512\n",
      "WARNING:langchain.text_splitter:Created a chunk of size 894, which is longer than the specified 512\n",
      "Created a chunk of size 894, which is longer than the specified 512\n",
      "WARNING:langchain.text_splitter:Created a chunk of size 648, which is longer than the specified 512\n",
      "Created a chunk of size 648, which is longer than the specified 512\n",
      "WARNING:langchain.text_splitter:Created a chunk of size 1378, which is longer than the specified 512\n",
      "Created a chunk of size 1378, which is longer than the specified 512\n",
      "WARNING:langchain.text_splitter:Created a chunk of size 550, which is longer than the specified 512\n",
      "Created a chunk of size 550, which is longer than the specified 512\n",
      "WARNING:langchain.text_splitter:Created a chunk of size 1747, which is longer than the specified 512\n",
      "Created a chunk of size 1747, which is longer than the specified 512\n",
      "WARNING:langchain.text_splitter:Created a chunk of size 1323, which is longer than the specified 512\n",
      "Created a chunk of size 1323, which is longer than the specified 512\n",
      "WARNING:langchain.text_splitter:Created a chunk of size 1815, which is longer than the specified 512\n",
      "Created a chunk of size 1815, which is longer than the specified 512\n",
      "WARNING:langchain.text_splitter:Created a chunk of size 3237, which is longer than the specified 512\n",
      "Created a chunk of size 3237, which is longer than the specified 512\n",
      "WARNING:langchain.text_splitter:Created a chunk of size 1421, which is longer than the specified 512\n",
      "Created a chunk of size 1421, which is longer than the specified 512\n",
      "WARNING:langchain.text_splitter:Created a chunk of size 848, which is longer than the specified 512\n",
      "Created a chunk of size 848, which is longer than the specified 512\n",
      "WARNING:langchain.text_splitter:Created a chunk of size 914, which is longer than the specified 512\n",
      "Created a chunk of size 914, which is longer than the specified 512\n",
      "WARNING:langchain.text_splitter:Created a chunk of size 950, which is longer than the specified 512\n",
      "Created a chunk of size 950, which is longer than the specified 512\n",
      "WARNING:langchain.text_splitter:Created a chunk of size 804, which is longer than the specified 512\n",
      "Created a chunk of size 804, which is longer than the specified 512\n",
      "WARNING:langchain.text_splitter:Created a chunk of size 731, which is longer than the specified 512\n",
      "Created a chunk of size 731, which is longer than the specified 512\n",
      "WARNING:langchain.text_splitter:Created a chunk of size 788, which is longer than the specified 512\n",
      "Created a chunk of size 788, which is longer than the specified 512\n",
      "WARNING:langchain.text_splitter:Created a chunk of size 1099, which is longer than the specified 512\n",
      "Created a chunk of size 1099, which is longer than the specified 512\n",
      "WARNING:langchain.text_splitter:Created a chunk of size 1251, which is longer than the specified 512\n"
     ]
    },
    {
     "name": "stdout",
     "output_type": "stream",
     "text": [
      "Created a chunk of size 1251, which is longer than the specified 512\n",
      "WARNING:langchain.text_splitter:Created a chunk of size 1321, which is longer than the specified 512\n",
      "Created a chunk of size 1321, which is longer than the specified 512\n",
      "WARNING:langchain.text_splitter:Created a chunk of size 772, which is longer than the specified 512\n",
      "Created a chunk of size 772, which is longer than the specified 512\n",
      "WARNING:langchain.text_splitter:Created a chunk of size 768, which is longer than the specified 512\n",
      "Created a chunk of size 768, which is longer than the specified 512\n",
      "WARNING:langchain.text_splitter:Created a chunk of size 1171, which is longer than the specified 512\n",
      "Created a chunk of size 1171, which is longer than the specified 512\n",
      "WARNING:langchain.text_splitter:Created a chunk of size 912, which is longer than the specified 512\n",
      "Created a chunk of size 912, which is longer than the specified 512\n",
      "WARNING:langchain.text_splitter:Created a chunk of size 647, which is longer than the specified 512\n",
      "Created a chunk of size 647, which is longer than the specified 512\n",
      "WARNING:langchain.text_splitter:Created a chunk of size 1629, which is longer than the specified 512\n",
      "Created a chunk of size 1629, which is longer than the specified 512\n",
      "WARNING:langchain.text_splitter:Created a chunk of size 1916, which is longer than the specified 512\n",
      "Created a chunk of size 1916, which is longer than the specified 512\n",
      "WARNING:langchain.text_splitter:Created a chunk of size 574, which is longer than the specified 512\n",
      "Created a chunk of size 574, which is longer than the specified 512\n",
      "WARNING:langchain.text_splitter:Created a chunk of size 4662, which is longer than the specified 512\n",
      "Created a chunk of size 4662, which is longer than the specified 512\n",
      "Number of chunks: 302\n",
      "Average length: 552.0033112582781\n",
      "Max length: 4662\n"
     ]
    }
   ],
   "source": [
    "# chunks are pretty big, let's split them\n",
    "text_splitter = CharacterTextSplitter(separator=\"|\", chunk_size=512, chunk_overlap=64)\n",
    "small_chunks = text_splitter.split_documents(chunks)\n",
    "print(f\"Number of chunks: {len(small_chunks)}\")\n",
    "print(f\"Average length:\", sum([len(d.page_content) for d in small_chunks])/len(small_chunks))\n",
    "print(f\"Max length:\", max([len(d.page_content) for d in small_chunks]))\n"
   ]
  },
  {
   "cell_type": "code",
   "execution_count": 6,
   "metadata": {},
   "outputs": [
    {
     "name": "stdout",
     "output_type": "stream",
     "text": [
      "INFO:unstructured:Reading document from string ...\n",
      "Reading document from string ...\n",
      "INFO:unstructured:Reading document ...\n",
      "Reading document ...\n",
      "Number of chunks: 425\n",
      "Average length: 388.67764705882354\n",
      "Max length: 4662\n"
     ]
    }
   ],
   "source": [
    "# native unstructured without langchain\n",
    "from unstructured.partition.auto import partition\n",
    "from unstructured.staging.base import elements_to_json\n",
    "\n",
    "input_filename = \"abbrev.md\"\n",
    "\n",
    "elements = partition(filename=input_filename)\n",
    "small_elements = []\n",
    "for e in elements:\n",
    "    small_elements.extend(e.text.split(\"|\"))\n",
    "small_elements = [e for e in small_elements if len(e.strip())]\n",
    "\n",
    "print(f\"Number of chunks: {len(small_elements)}\")\n",
    "print(f\"Average length:\", sum([len(d) for d in small_elements])/len(small_elements))\n",
    "print(f\"Max length:\", max([len(d) for d in small_elements]))\n"
   ]
  },
  {
   "cell_type": "code",
   "execution_count": 26,
   "metadata": {},
   "outputs": [
    {
     "data": {
      "text/plain": [
       "'Microsoft is innovating and expanding our entire portfolio to help people and organizations overcome today’s challenges and emerge stronger. We bring technology and products together into experiences and solutions that unlock value for our customers.'"
      ]
     },
     "execution_count": 26,
     "metadata": {},
     "output_type": "execute_result"
    }
   ],
   "source": [
    "small_elements[5]"
   ]
  },
  {
   "cell_type": "code",
   "execution_count": 28,
   "metadata": {},
   "outputs": [
    {
     "name": "stdout",
     "output_type": "stream",
     "text": [
      "INFO:chromadb.telemetry.posthog:Anonymized telemetry enabled. See https://docs.trychroma.com/telemetry for more information.\n",
      "Anonymized telemetry enabled. See https://docs.trychroma.com/telemetry for more information.\n",
      "INFO:chromadb.db.duckdb:No existing DB found in chroma_msft, skipping load\n",
      "No existing DB found in chroma_msft, skipping load\n",
      "INFO:chromadb.db.duckdb:No existing DB found in chroma_msft, skipping load\n",
      "No existing DB found in chroma_msft, skipping load\n",
      "INFO:chromadb.db.duckdb:Persisting DB to disk, putting it in the save folder: chroma_msft\n",
      "Persisting DB to disk, putting it in the save folder: chroma_msft\n"
     ]
    }
   ],
   "source": [
    "# vectorize and persist in Chroma db\n",
    "embeddings = OpenAIEmbeddings(model='text-embedding-ada-002',)\n",
    "# create the vectorestore to use as the index\n",
    "db = Chroma.from_texts(small_elements, embeddings, persist_directory=\"chroma_msft\")\n",
    "db.persist()\n"
   ]
  },
  {
   "cell_type": "code",
   "execution_count": 29,
   "metadata": {},
   "outputs": [
    {
     "name": "stdout",
     "output_type": "stream",
     "text": [
      "5\n",
      "['ITEM\\xa01A. RISK FACTORS', 'GENERAL RISKS', 'OPERATIONAL RISKS', 'Measures to contain a global pandemic may intensify other risks described in these Risk Factors. Any of these measures may adversely impact our ability to:', 'STRATEGIC AND COMPETITIVE RISKS']\n"
     ]
    }
   ],
   "source": [
    "# query vector store\n",
    "query = \"What were the risk factors?\"\n",
    "docs = db.similarity_search(query,k=5)\n",
    "print(len(docs))\n",
    "print([d.page_content for d in docs])\n"
   ]
  },
  {
   "cell_type": "code",
   "execution_count": null,
   "metadata": {},
   "outputs": [],
   "source": [
    "# test different loaders - markdown\n",
    "loader = UnstructuredFileLoader(\"./docx-unstructured.md\", mode='elements')\n",
    "tmpdocs = loader.load()\n",
    "print(len(tmpdocs))\n",
    "tmpdocs[100].page_content[:400]\n"
   ]
  },
  {
   "cell_type": "code",
   "execution_count": null,
   "metadata": {},
   "outputs": [],
   "source": [
    "# docx\n",
    "loader = UnstructuredFileLoader(\"./10K.docx\", mode='elements')\n",
    "tmpdocs = loader.load()\n",
    "print(len(tmpdocs))\n",
    "tmpdocs[100].page_content[:400]\n"
   ]
  },
  {
   "cell_type": "code",
   "execution_count": null,
   "metadata": {},
   "outputs": [],
   "source": [
    "# pdf\n",
    "loader = UnstructuredFileLoader(\"./10K.pdf\", mode='elements')\n",
    "tmpdocs = loader.load()\n",
    "print(len(tmpdocs))\n",
    "tmpdocs[100].page_content[:400]\n"
   ]
  },
  {
   "cell_type": "code",
   "execution_count": null,
   "metadata": {},
   "outputs": [],
   "source": [
    "# html\n",
    "loader = UnstructuredFileLoader(\"./10K.html\", mode='elements')\n",
    "tmpdocs = loader.load()\n",
    "print(len(tmpdocs))\n",
    "tmpdocs[100].page_content[:400]\n"
   ]
  },
  {
   "cell_type": "code",
   "execution_count": null,
   "metadata": {},
   "outputs": [],
   "source": [
    "# xls\n",
    "loader = UnstructuredFileLoader(\"./10K.xls\", mode='elements')\n",
    "tmpdocs = loader.load()\n",
    "print(len(tmpdocs))\n",
    "tmpdocs[20].page_content[:400]\n"
   ]
  },
  {
   "cell_type": "markdown",
   "metadata": {},
   "source": [
    "## Question answering"
   ]
  },
  {
   "cell_type": "code",
   "execution_count": 30,
   "metadata": {},
   "outputs": [],
   "source": [
    "# expose this index in a retriever interface\n",
    "retriever = db.as_retriever(search_type=\"similarity\", search_kwargs={\"k\": 20})\n"
   ]
  },
  {
   "cell_type": "code",
   "execution_count": 31,
   "metadata": {},
   "outputs": [],
   "source": [
    "CONDENSE_QUESTION_PROMPT = PromptTemplate.from_template(\"\"\"\n",
    "Given the following conversation and a follow up question, rephrase the follow up question to be a standalone question.\n",
    "\n",
    "Chat History:\n",
    "{chat_history}\n",
    "Follow Up Input: {question}\n",
    "Standalone question:\"\"\")\n",
    "\n",
    "# create a chain to answer questions \n",
    "# qa = ConversationalRetrievalChain.from_llm(OpenAI(model='gpt-3.5-turbo-16k'), retriever, return_source_documents=True)\n",
    "qa = ConversationalRetrievalChain.from_llm(llm=ChatOpenAI(model='gpt-3.5-turbo'),\n",
    "                                           retriever=retriever,\n",
    "                                           condense_question_prompt=CONDENSE_QUESTION_PROMPT,\n",
    "                                           return_source_documents=True,\n",
    "                                           verbose=True)\n",
    "\n"
   ]
  },
  {
   "cell_type": "code",
   "execution_count": 37,
   "metadata": {},
   "outputs": [
    {
     "name": "stdout",
     "output_type": "stream",
     "text": [
      "\n",
      "\n",
      "\u001b[1m> Entering new  chain...\u001b[0m\n",
      "\n",
      "\n",
      "\u001b[1m> Entering new  chain...\u001b[0m\n",
      "Prompt after formatting:\n",
      "\u001b[32;1m\u001b[1;3mSystem: Use the following pieces of context to answer the users question. \n",
      "If you don't know the answer, just say that you don't know, don't try to make up an answer.\n",
      "----------------\n",
      "ITEM 1A. RISK FACTORS\n",
      "\n",
      "GENERAL RISKS\n",
      "\n",
      "OPERATIONAL RISKS\n",
      "\n",
      "STRATEGIC AND COMPETITIVE RISKS\n",
      "\n",
      "Measures to contain a global pandemic may intensify other risks described in these Risk Factors. Any of these measures may adversely impact our ability to:\n",
      "\n",
      "Wellness and Safety\n",
      "\n",
      "LEGAL, REGULATORY, AND LITIGATION RISKS\n",
      "\n",
      "INTELLECTUAL PROPERTY RISKS\n",
      "\n",
      "RISKS RELATING TO THE EVOLUTION OF OUR BUSINESS\n",
      "\n",
      "Data security breaches, compliance failures, or actions of partners or individual employees. \n",
      "\n",
      "Our global business exposes us to operational and economic risks. Our customers are located throughout the world and a significant part of our revenue comes from international sales. The global nature of our business creates operational, economic, and geopolitical risks. Our results of operations may be affected by global, regional, and local economic developments, monetary policy, inflation, and recession, as well as political and military disputes. In addition, our international growth strategy includes certain markets, the developing nature of which presents several risks, including deterioration of social, political, labor, or economic conditions in a country or region, and difficulties in staffing and managing foreign operations. Emerging nationalist and protectionist trends and concerns about human rights and political expression in specific countries may significantly alter the trade and commercial environments. Changes to trade policy or agreements as a result of populism, protectionism, or economic nationalism may result in higher tariffs, local sourcing initiatives, and non-local sourcing restrictions, export controls, investment restrictions, or other developments that make it more difficult to sell our products in foreign countries. Disruptions of these kinds in developed or emerging markets could negatively impact demand for our products and services or increase operating costs. Although we hedge a portion of our international currency exposure, significant fluctuations in foreign exchange rates between the U.S. dollar and foreign currencies may adversely affect our results of operations. \n",
      "\n",
      "CYBERSECURITY, DATA PRIVACY, AND PLATFORM ABUSE RISKS\n",
      "\n",
      "Development and deployment of defensive measures\n",
      "\n",
      "Abrupt political change, terrorist activity, and armed conflict, such as the ongoing conflict in Ukraine, pose a risk of general economic disruption in affected countries, which may increase our operating costs and negatively impact our ability to sell to and collect from customers in affected markets. These conditions also may add uncertainty to the timing and budget for technology investment decisions by our customers and may cause supply chain disruptions for hardware manufacturers. Geopolitical change may result in changing regulatory systems and requirements and market interventions that could impact our operating strategies, access to national, regional, and global markets, hiring, and profitability. Geopolitical instability may lead to sanctions and impact our ability to do business in some markets or with some public-sector customers. Any of these changes may negatively impact our revenues. \n",
      "\n",
      "Investing in the Future \n",
      "\n",
      "Refer to accompanying notes. \n",
      "\n",
      "Refer to accompanying notes. \n",
      "\n",
      "Refer to accompanying notes. \n",
      "\n",
      "RESEARCH AND DEVELOPMENT \n",
      "\n",
      "Cyberattacks and security vulnerabilities could lead to reduced revenue, increased costs, liability claims, or harm to our reputation or competitive position. \n",
      "Human: what were the risk factors?\u001b[0m\n",
      "\n",
      "\u001b[1m> Finished chain.\u001b[0m\n",
      "\n",
      "\u001b[1m> Finished chain.\u001b[0m\n",
      "The risk factors mentioned in the provided context include General Risks, Operational Risks, Strategic and Competitive Risks, Legal, Regulatory, and Litigation Risks, Intellectual Property Risks, Risks Relating to the Evolution of the Business, Data Security Breaches, Compliance Failures, or Actions of Partners or Individual Employees, Cybersecurity, Data Privacy, and Platform Abuse Risks, and Geopolitical Risks.\n"
     ]
    }
   ],
   "source": [
    "chat_history = []\n",
    "query = \"what were the risk factors?\"\n",
    "result = qa({\"question\": query, 'chat_history': chat_history})\n",
    "chat_history.append(HumanMessage(content=query))\n",
    "chat_history.append(SystemMessage(content=result['answer']))\n",
    "print(result['answer'])\n"
   ]
  },
  {
   "cell_type": "code",
   "execution_count": 38,
   "metadata": {},
   "outputs": [
    {
     "name": "stdout",
     "output_type": "stream",
     "text": [
      "\n",
      "\n",
      "\u001b[1m> Entering new  chain...\u001b[0m\n",
      "Prompt after formatting:\n",
      "\u001b[32;1m\u001b[1;3m\n",
      "Given the following conversation and a follow up question, rephrase the follow up question to be a standalone question.\n",
      "\n",
      "Chat History:\n",
      "\n",
      "Human: what were the risk factors?\n",
      "system: The risk factors mentioned in the provided context include General Risks, Operational Risks, Strategic and Competitive Risks, Legal, Regulatory, and Litigation Risks, Intellectual Property Risks, Risks Relating to the Evolution of the Business, Data Security Breaches, Compliance Failures, or Actions of Partners or Individual Employees, Cybersecurity, Data Privacy, and Platform Abuse Risks, and Geopolitical Risks.\n",
      "Follow Up Input: what is Microsoft?\n",
      "Standalone question:\u001b[0m\n",
      "\n",
      "\u001b[1m> Finished chain.\u001b[0m\n",
      "\n",
      "\n",
      "\u001b[1m> Entering new  chain...\u001b[0m\n",
      "\n",
      "\n",
      "\u001b[1m> Entering new  chain...\u001b[0m\n",
      "Prompt after formatting:\n",
      "\u001b[32;1m\u001b[1;3mSystem: Use the following pieces of context to answer the users question. \n",
      "If you don't know the answer, just say that you don't know, don't try to make up an answer.\n",
      "----------------\n",
      "ITEM 1A. RISK FACTORS\n",
      "\n",
      "STRATEGIC AND COMPETITIVE RISKS\n",
      "\n",
      "Measures to contain a global pandemic may intensify other risks described in these Risk Factors. Any of these measures may adversely impact our ability to:\n",
      "\n",
      "GENERAL RISKS\n",
      "\n",
      "OPERATIONAL RISKS\n",
      "\n",
      "LEGAL, REGULATORY, AND LITIGATION RISKS\n",
      "\n",
      "Data security breaches, compliance failures, or actions of partners or individual employees. \n",
      "\n",
      "Wellness and Safety\n",
      "\n",
      "Our global business exposes us to operational and economic risks. Our customers are located throughout the world and a significant part of our revenue comes from international sales. The global nature of our business creates operational, economic, and geopolitical risks. Our results of operations may be affected by global, regional, and local economic developments, monetary policy, inflation, and recession, as well as political and military disputes. In addition, our international growth strategy includes certain markets, the developing nature of which presents several risks, including deterioration of social, political, labor, or economic conditions in a country or region, and difficulties in staffing and managing foreign operations. Emerging nationalist and protectionist trends and concerns about human rights and political expression in specific countries may significantly alter the trade and commercial environments. Changes to trade policy or agreements as a result of populism, protectionism, or economic nationalism may result in higher tariffs, local sourcing initiatives, and non-local sourcing restrictions, export controls, investment restrictions, or other developments that make it more difficult to sell our products in foreign countries. Disruptions of these kinds in developed or emerging markets could negatively impact demand for our products and services or increase operating costs. Although we hedge a portion of our international currency exposure, significant fluctuations in foreign exchange rates between the U.S. dollar and foreign currencies may adversely affect our results of operations. \n",
      "\n",
      "Abrupt political change, terrorist activity, and armed conflict, such as the ongoing conflict in Ukraine, pose a risk of general economic disruption in affected countries, which may increase our operating costs and negatively impact our ability to sell to and collect from customers in affected markets. These conditions also may add uncertainty to the timing and budget for technology investment decisions by our customers and may cause supply chain disruptions for hardware manufacturers. Geopolitical change may result in changing regulatory systems and requirements and market interventions that could impact our operating strategies, access to national, regional, and global markets, hiring, and profitability. Geopolitical instability may lead to sanctions and impact our ability to do business in some markets or with some public-sector customers. Any of these changes may negatively impact our revenues. \n",
      "\n",
      "INTELLECTUAL PROPERTY RISKS\n",
      "\n",
      "RISKS RELATING TO THE EVOLUTION OF OUR BUSINESS\n",
      "\n",
      "If our reputation or our brands are damaged, our business and operating results may be harmed. Our reputation and brands are globally recognized and are important to our business. Our reputation and brands affect our ability to attract and retain consumer, business, and public-sector customers. There are numerous ways our reputation or brands could be damaged. These include product safety or quality issues, our environmental impact and sustainability, supply chain practices, or human rights record. We may experience backlash from customers, government entities, advocacy groups, employees, and other stakeholders that disagree with our product offering decisions or public policy positions. Damage to our reputation or our brands may occur from, among other things: \n",
      "\n",
      "Cyberattacks and security vulnerabilities could lead to reduced revenue, increased costs, liability claims, or harm to our reputation or competitive position. \n",
      "\n",
      "CYBERSECURITY, DATA PRIVACY, AND PLATFORM ABUSE RISKS\n",
      "\n",
      "The occurrence of regional epidemics or a global pandemic such as COVID-19 may adversely affect our operations, financial condition, and results of operations. The COVID-19 pandemic has had widespread, rapidly evolving, and unpredictable impacts on global society, economies, financial markets, and business practices. The extent to which global pandemics impact our business going forward will depend on factors such as the duration and scope of the pandemic; governmental, business, and individuals' actions in response to the pandemic; and the impact on economic activity including the possibility of recession or financial market instability. \n",
      "\n",
      "The cost of measures to protect products and customer-facing services could reduce our operating margins. If we fail to do these things well, actual or perceived security vulnerabilities in our products and services, data corruption issues, or reduced performance could harm our reputation and lead customers to reduce or delay future purchases of products or subscriptions to services, or to use competing products or services. Customers may also spend more on protecting their existing computer systems from attack, which could delay adoption of additional products or services. Customers, and third parties granted access to their systems, may fail to update their systems, continue to run software or operating systems we no longer support, or may fail timely to install or enable security patches, or may otherwise fail to adopt adequate security practices. Any of these could adversely affect our reputation and revenue. Actual or perceived vulnerabilities may lead to claims against us. Our license agreements typically contain provisions that eliminate or limit our exposure to liability, but there is no assurance these provisions will withstand legal challenges. At times, to achieve commercial objectives, we may enter into agreements with larger liability exposure to customers. \n",
      "\n",
      "Refer to accompanying notes. \n",
      "\n",
      "Refer to accompanying notes. \n",
      "\n",
      "Refer to accompanying notes. \n",
      "Human: What are the different types of risk factors mentioned in the provided context?\u001b[0m\n",
      "\n",
      "\u001b[1m> Finished chain.\u001b[0m\n",
      "\n",
      "\u001b[1m> Finished chain.\u001b[0m\n",
      "The different types of risk factors mentioned in the provided context are:\n",
      "\n",
      "1. Strategic and Competitive Risks\n",
      "2. General Risks\n",
      "3. Operational Risks\n",
      "4. Legal, Regulatory, and Litigation Risks\n",
      "5. Intellectual Property Risks\n",
      "6. Risks Relating to the Evolution of Our Business\n",
      "7. Cybersecurity, Data Privacy, and Platform Abuse Risks\n",
      "8. Wellness and Safety\n"
     ]
    }
   ],
   "source": [
    "query = \"what is Microsoft?\"\n",
    "result = qa({\"question\": query, 'chat_history': chat_history})\n",
    "print(result['answer'])\n",
    "chat_history.append(HumanMessage(content=query))\n",
    "chat_history.append(SystemMessage(content=result['answer']))\n"
   ]
  },
  {
   "cell_type": "code",
   "execution_count": 39,
   "metadata": {},
   "outputs": [
    {
     "name": "stdout",
     "output_type": "stream",
     "text": [
      "\n",
      "\n",
      "\u001b[1m> Entering new  chain...\u001b[0m\n",
      "Prompt after formatting:\n",
      "\u001b[32;1m\u001b[1;3m\n",
      "Given the following conversation and a follow up question, rephrase the follow up question to be a standalone question.\n",
      "\n",
      "Chat History:\n",
      "\n",
      "Human: what were the risk factors?\n",
      "system: The risk factors mentioned in the provided context include General Risks, Operational Risks, Strategic and Competitive Risks, Legal, Regulatory, and Litigation Risks, Intellectual Property Risks, Risks Relating to the Evolution of the Business, Data Security Breaches, Compliance Failures, or Actions of Partners or Individual Employees, Cybersecurity, Data Privacy, and Platform Abuse Risks, and Geopolitical Risks.\n",
      "Human: what is Microsoft?\n",
      "system: The different types of risk factors mentioned in the provided context are:\n",
      "\n",
      "1. Strategic and Competitive Risks\n",
      "2. General Risks\n",
      "3. Operational Risks\n",
      "4. Legal, Regulatory, and Litigation Risks\n",
      "5. Intellectual Property Risks\n",
      "6. Risks Relating to the Evolution of Our Business\n",
      "7. Cybersecurity, Data Privacy, and Platform Abuse Risks\n",
      "8. Wellness and Safety\n",
      "Follow Up Input: Where is Microsoft located?\n",
      "Standalone question:\u001b[0m\n",
      "\n",
      "\u001b[1m> Finished chain.\u001b[0m\n",
      "\n",
      "\n",
      "\u001b[1m> Entering new  chain...\u001b[0m\n",
      "\n",
      "\n",
      "\u001b[1m> Entering new  chain...\u001b[0m\n",
      "Prompt after formatting:\n",
      "\u001b[32;1m\u001b[1;3mSystem: Use the following pieces of context to answer the users question. \n",
      "If you don't know the answer, just say that you don't know, don't try to make up an answer.\n",
      "----------------\n",
      "While our main product research and development facilities are located in Redmond, Washington, we also operate research and development facilities in other parts of the U.S. and around the world. This global approach helps us remain competitive in local markets and enables us to continue to attract top talent from across the world. \n",
      "\n",
      "Microsoft is a technology company whose mission is to empower every person and every organization on the planet to achieve more. We strive to create local opportunity, growth, and impact in every country around the world. Our platforms and tools help drive small business productivity, large business competitiveness, and public-sector efficiency. We are creating the tools and platforms that deliver better, faster, and more effective solutions to support new startups, improve educational and health outcomes, and empower human ingenuity. \n",
      "\n",
      "Our corporate headquarters are located in Redmond, Washington. We have approximately 15 million square feet of space located in King County, Washington that is used for engineering, sales, marketing, and operations, among other general and administrative purposes. These facilities include approximately 10 million square feet of owned space situated on approximately 520 acres of land we own at our corporate headquarters, and approximately 5 million square feet of space we lease. In addition, we own and lease space domestically that includes office and datacenter space.\n",
      "\n",
      "In addition to our main research and development operations, we also operate Microsoft Research. Microsoft Research is one of the world’s largest corporate research organizations and works in close collaboration with top universities around the world to advance the state-of-the-art in computer science and a broad range of other disciplines, providing us a unique perspective on future trends and contributing to our innovation. \n",
      "\n",
      "We also sell commercial and consumer products and services directly to customers, such as cloud services, search, and gaming, through our digital marketplaces and online stores. In fiscal year 2021, we closed our Microsoft Store physical locations and opened our Microsoft Experience Centers. Microsoft Experience Centers are designed to facilitate deeper engagement with our partners and customers across industries. \n",
      "\n",
      "Microsoft Products and Services Agreement \n",
      "\n",
      "At Microsoft, we provide technology and resources to help our customers create a secure hybrid work environment. Our family of products plays a key role in the ways the world works, learns, and connects. \n",
      "\n",
      "Microsoft Customer Agreement\n",
      "\n",
      "Microsoft is innovating and expanding our entire portfolio to help people and organizations overcome today’s challenges and emerge stronger. We bring technology and products together into experiences and solutions that unlock value for our customers.\n",
      "\n",
      "Operating as one company, One Microsoft, instead of multiple siloed businesses.\n",
      "\n",
      "Microsoft is committed to supporting our employees’ well-being and safety while they are at work and in their personal lives. \n",
      "\n",
      "Our Internet address is www.microsoft.com. At our Investor Relations website, www.microsoft.com/investor, we make available free of charge a variety of information for investors. Our goal is to maintain the Investor Relations website as a portal through which investors can easily find or navigate to pertinent information about us, including:\n",
      "\n",
      "Windows\n",
      "\n",
      "Microsoft aims to recruit, develop, and retain world-changing talent from a diversity of backgrounds. To foster their and our success, we seek to create an environment where people can thrive, where they can do their best work, where they can proudly be their authentic selves, guided by our values, and where they know their needs can be met. We strive to maximize the potential of our human capital resources by creating a respectful, rewarding, and inclusive work environment that enables our global employees to create products and services that further our mission to empower every person and every organization on the planet to achieve more.\n",
      "\n",
      "Microsoft Online Subscription Agreement\n",
      "\n",
      "The Microsoft Cloud is the most comprehensive and trusted cloud, providing the best integration across the technology stack while offering openness, improving time to value, reducing costs, and increasing agility. Being a global-scale cloud, Azure uniquely offers hybrid consistency, developer productivity, AI capabilities, and trusted security and compliance. We see more emerging use cases and needs for compute and security at the edge and are accelerating our innovation across the spectrum of intelligent edge devices, from Internet of Things (“IoT”) sensors to gateway devices and edge hardware to build, manage, and secure edge workloads. With Azure Stack, organizations can extend Azure into their own datacenters to create a consistent stack across the public cloud and the intelligent edge. \n",
      "\n",
      "Using Windows to fuel our cloud business, grow our share of the PC market, and drive increased engagement with our services like Microsoft 365 Consumer, Teams, Edge, Bing, Xbox Game Pass, and more.\n",
      "\n",
      "We strive to make computing more personal by putting people at the core of the experience, enabling them to interact with technology in more intuitive, engaging, and dynamic ways. Microsoft 365 is empowering people and organizations to be productive and secure as they adapt to more fluid ways of working, learning, and playing. Windows also plays a critical role in fueling our cloud business with Windows 365, a desktop operating system that’s also a cloud service. From another internet-connected device, including Android or macOS devices, you can run Windows 365, just like a virtual machine.\n",
      "\n",
      "We publish a variety of reports and resources related to our Corporate Social Responsibility programs and progress on our Reports Hub website, www.microsoft.com/corporate-responsibility/reports-hub, including reports on sustainability, responsible sourcing, accessibility, digital trust, and public policy engagement. \n",
      "\n",
      "Our growth depends on securely delivering continuous innovation and advancing our leading productivity and collaboration tools and services, including Office 365, Dynamics 365, and LinkedIn. Microsoft 365 brings together Office 365, Windows, and Enterprise Mobility + Security to help organizations empower their employees with AI-backed tools that unlock creativity, increase collaboration, and fuel innovation, all the while enabling compliance coverage and data protection. Microsoft Teams is a comprehensive platform for work, with meetings, calls, chat, collaboration, and business process automation. Microsoft Viva is an employee experience platform that brings together communications, knowledge, learning, resources, and insights powered by Microsoft 365. Together with the Microsoft Cloud, Dynamics 365, Microsoft Teams, and Azure Synapse bring a new era of collaborative applications that transform every business function and process. Microsoft Power Platform is helping domain experts drive productivity gains with low-code/no-code tools, robotic process automation, virtual agents, and business intelligence. In a dynamic labor market, LinkedIn is helping professionals use the platform to connect, learn, grow, and get hired. \n",
      "Human: What is the location of Microsoft?\u001b[0m\n"
     ]
    },
    {
     "name": "stdout",
     "output_type": "stream",
     "text": [
      "\n",
      "\u001b[1m> Finished chain.\u001b[0m\n",
      "\n",
      "\u001b[1m> Finished chain.\u001b[0m\n",
      "Microsoft's corporate headquarters are located in Redmond, Washington, in the United States. They also have research and development facilities in other parts of the U.S. and around the world.\n"
     ]
    }
   ],
   "source": [
    "query=\"Where is Microsoft located?\"\n",
    "result = qa({\"question\": query, 'chat_history': chat_history})\n",
    "print(result['answer'])\n",
    "chat_history.append(HumanMessage(content=query))\n",
    "chat_history.append(SystemMessage(content=result['answer']))\n",
    "\n",
    "# todo - run in colab\n",
    "# try to answer questions based on tables\n",
    "# try to get it to run "
   ]
  },
  {
   "cell_type": "code",
   "execution_count": 40,
   "metadata": {},
   "outputs": [
    {
     "name": "stdout",
     "output_type": "stream",
     "text": [
      "\n",
      "\n",
      "\u001b[1m> Entering new  chain...\u001b[0m\n",
      "Prompt after formatting:\n",
      "\u001b[32;1m\u001b[1;3m\n",
      "Given the following conversation and a follow up question, rephrase the follow up question to be a standalone question.\n",
      "\n",
      "Chat History:\n",
      "\n",
      "Human: what were the risk factors?\n",
      "system: The risk factors mentioned in the provided context include General Risks, Operational Risks, Strategic and Competitive Risks, Legal, Regulatory, and Litigation Risks, Intellectual Property Risks, Risks Relating to the Evolution of the Business, Data Security Breaches, Compliance Failures, or Actions of Partners or Individual Employees, Cybersecurity, Data Privacy, and Platform Abuse Risks, and Geopolitical Risks.\n",
      "Human: what is Microsoft?\n",
      "system: The different types of risk factors mentioned in the provided context are:\n",
      "\n",
      "1. Strategic and Competitive Risks\n",
      "2. General Risks\n",
      "3. Operational Risks\n",
      "4. Legal, Regulatory, and Litigation Risks\n",
      "5. Intellectual Property Risks\n",
      "6. Risks Relating to the Evolution of Our Business\n",
      "7. Cybersecurity, Data Privacy, and Platform Abuse Risks\n",
      "8. Wellness and Safety\n",
      "Human: Where is Microsoft located?\n",
      "system: Microsoft's corporate headquarters are located in Redmond, Washington, in the United States. They also have research and development facilities in other parts of the U.S. and around the world.\n",
      "Human: Where is Microsoft located?\n",
      "Assistant: Microsoft's corporate headquarters are located in Redmond, Washington, in the United States. They also have research and development facilities in other parts of the U.S. and around the world.\n",
      "Follow Up Input: What was accrued compensation as of June 30, 2022\n",
      "Standalone question:\u001b[0m\n",
      "\n",
      "\u001b[1m> Finished chain.\u001b[0m\n",
      "\n",
      "\n",
      "\u001b[1m> Entering new  chain...\u001b[0m\n",
      "\n",
      "\n",
      "\u001b[1m> Entering new  chain...\u001b[0m\n",
      "Prompt after formatting:\n",
      "\u001b[32;1m\u001b[1;3mSystem: Use the following pieces of context to answer the users question. \n",
      "If you don't know the answer, just say that you don't know, don't try to make up an answer.\n",
      "----------------\n",
      "Year Ended June 30,                                                                                2022  2022               2021  2021               2020  2020\n",
      "\n",
      "Year Ended June 30,                                 2022  2022               2021  2021               2020  2020\n",
      "\n",
      "Year Ended June 30,                                  2022  2022              2021  2021              2020  2020\n",
      "\n",
      "Year Ended June 30,                             2022  2022               2021  2021               2020  2020\n",
      "\n",
      "Our executive officers as of July 28, 2022 were as follows:\n",
      "\n",
      "(In millions)\n",
      "June 30,                                                                                       2022  2022               2021  2021\n",
      "Assets\n",
      "Current assets:\n",
      "Cash and cash equivalents                                                                      $     13,931             $     14,224\n",
      "Short-term investments                                                                               90,826                   116,110\n",
      "Total cash, cash equivalents, and short-term investments                                             104,757                  130,334\n",
      "Accounts receivable, net of allowance for doubtful accounts of $633 and $751                         44,261                   38,043\n",
      "Inventories                                                                                          3,742                    2,636\n",
      "Other current assets                                                                                 16,924                   13,393\n",
      "Total current assets                                                                                 169,684                  184,406\n",
      "Property and equipment, net of accumulated depreciation of $59,660 and $51,351                       74,398                   59,715\n",
      "Operating lease right-of-use assets                                                                  13,148                   11,088\n",
      "Equity investments                                                                                   6,891                    5,984\n",
      "Goodwill                                                                                             67,524                   49,711\n",
      "Intangible assets, net                                                                               11,298                   7,800\n",
      "Other long-term assets                                                                               21,897                   15,075\n",
      "Total assets                                                                                   $     364,840            $     333,779\n",
      "Liabilities and stockholders’ equity\n",
      "Current liabilities:\n",
      "Accounts payable                                                                               $     19,000             $     15,163\n",
      "Current portion of long-term debt                                                                    2,749                    8,072\n",
      "Accrued compensation                                                                                 10,661                   10,057\n",
      "Short-term income taxes                                                                              4,067                    2,174\n",
      "Short-term unearned revenue                                                                          45,538                   41,525\n",
      "Other current liabilities                                                                            13,067                   11,666\n",
      "Total current liabilities                                                                            95,082                   88,657\n",
      "Long-term debt                                                                                       47,032                   50,074\n",
      "Long-term income taxes                                                                               26,069                   27,190\n",
      "Long-term unearned revenue                                                                           2,870                    2,616\n",
      "Deferred income taxes                                                                                230                      198\n",
      "Operating lease liabilities                                                                          11,489                   9,629\n",
      "Other long-term liabilities                                                                          15,526                   13,427\n",
      "Total liabilities                                                                                    198,298                  191,791\n",
      "Commitments and contingencies\n",
      "Stockholders’ equity:\n",
      "Common stock and paid-in capital – shares authorized 24,000; outstanding 7,464 and 7,519             86,939                   83,111\n",
      "Retained earnings                                                                                    84,281                   57,055\n",
      "Accumulated other comprehensive income (loss)                                                        (4,678   )               1,822\n",
      "Total stockholders’ equity                                                                           166,542                  141,988\n",
      "Total liabilities and stockholders’ equity                                                     $     364,840            $     333,779\n",
      "\n",
      "Total Rewards \n",
      "\n",
      "The table below shows a summary of the square footage of our office, datacenter, and other facilities owned and leased domestically and internationally as of June 30, 2022:\n",
      "\n",
      "Accumulated other comprehensive income (loss)\n",
      "Balance, beginning of period                              1,822                    3,186                    (340     )\n",
      "Other comprehensive income (loss)                         (6,500   )               (1,374   )               3,526\n",
      "Cumulative effect of accounting changes                   0                        10                       0\n",
      "\n",
      "Pay equity (see details below).\n",
      "\n",
      "As of June 30, 2022, we employed approximately 221,000 people on a full-time basis, 122,000 in the U.S. and 99,000 internationally. Of the total employed people, 85,000 were in operations, including manufacturing, distribution, product support, and consulting services; 73,000 were in product research and development; 47,000 were in sales and marketing; and 16,000 were in general and administration. Certain employees are subject to collective bargaining agreements.\n",
      "\n",
      "Comprehensive income                                 $     66,238            $     59,897            $     47,807\n",
      "\n",
      "\n",
      "Pay Equity\n",
      "\n",
      "Retained earnings\n",
      "Balance, beginning of period                              57,055                   34,566                   24,150\n",
      "Net income                                                72,738                   61,271                   44,281\n",
      "Common stock cash dividends                               (18,552  )               (16,871  )               (15,483  )\n",
      "Common stock repurchased                                  (26,960  )               (21,879  )               (18,382  )\n",
      "Cumulative effect of accounting changes                   0                        (32      )               0\n",
      "\n",
      "Common stock and paid-in capital\n",
      "Balance, beginning of period                        $     83,111             $     80,552             $     78,520\n",
      "Common stock issued                                       1,841                    1,963                    1,343\n",
      "Common stock repurchased                                  (5,688   )               (5,539   )               (4,599   )\n",
      "Stock-based compensation expense                          7,502                    6,118                    5,289\n",
      "Other, net                                                173                      17                       (1       )\n",
      "\n",
      "We have received no written comments regarding our periodic or current reports from the staff of the Securities and Exchange Commission that were issued 180 days or more preceding the end of our fiscal year 2022 that remain unresolved. \n",
      "\n",
      "Total cost of revenue                                 62,650                   52,232                   46,078\n",
      "\n",
      "BALANCE SHEETS \n",
      "\n",
      "Name                           Age    Age              Position with the Company\n",
      "\n",
      "Other comprehensive income (loss)                          (6,500  )               (1,374  )               3,526\n",
      "Human: What was accrued compensation as of June 30, 2022?\u001b[0m\n"
     ]
    },
    {
     "name": "stdout",
     "output_type": "stream",
     "text": [
      "\n",
      "\u001b[1m> Finished chain.\u001b[0m\n",
      "\n",
      "\u001b[1m> Finished chain.\u001b[0m\n",
      "Accrued compensation as of June 30, 2022 was $10,661 million.\n"
     ]
    }
   ],
   "source": [
    "chat_history.append((query, result[\"answer\"]))\n",
    "query=\"What was accrued compensation as of June 30, 2022\"\n",
    "result = qa({\"question\": query, 'chat_history': chat_history})\n",
    "print(result['answer'])\n"
   ]
  },
  {
   "cell_type": "code",
   "execution_count": null,
   "metadata": {},
   "outputs": [],
   "source": [
    "year = 2022\n",
    "fmt = 'pdf'\n",
    "\n",
    "all_docs = []\n",
    "\n",
    "print(datetime.now(), 'loading')\n",
    "docs = loader.load_data(file=Path(f'./10K.{fmt}'), split_documents=False)\n",
    "    # insert year metadata into each year\n",
    "for d in docs:\n",
    "    d.extra_info = {\"year\": 2022, \"ticker\": 'MSFT', \"name\": \"Microsoft\"}\n",
    "    all_docs.extend(docs)\n",
    "\n",
    "    \n",
    "print(datetime.now(), 'indexing')\n",
    "index_id = \"index_%s_%d\" % (fmt, year)\n",
    "cur_index = GPTVectorStoreIndex.from_documents(docs,\n",
    "                                               service_context=service_context)\n",
    "cur_index.storage_context.persist(index_id)\n"
   ]
  },
  {
   "cell_type": "code",
   "execution_count": null,
   "metadata": {},
   "outputs": [],
   "source": [
    "year = 2022\n",
    "fmt = 'md'\n",
    "\n",
    "all_docs = []\n",
    "\n",
    "print(datetime.now(), 'loading')\n",
    "docs = loader.load_data(file=Path(f'./docx-unstructured.{fmt}'), split_documents=False)\n",
    "    # insert year metadata into each year\n",
    "for d in docs:\n",
    "    d.extra_info = {\"year\": 2022, \"ticker\": 'MSFT', \"name\": \"Microsoft\"}\n",
    "    all_docs.extend(docs)\n",
    "\n",
    "    \n",
    "print(datetime.now(), 'indexing')\n",
    "index_id = \"index_%s_%d\" % (fmt, year)\n",
    "cur_index = GPTVectorStoreIndex.from_documents(docs,\n",
    "                                               service_context=service_context)\n",
    "cur_index.storage_context.persist(index_id)\n"
   ]
  },
  {
   "cell_type": "code",
   "execution_count": null,
   "metadata": {},
   "outputs": [],
   "source": [
    "# NOTE: this global index is a single vector store containing all documents\n",
    "# Only relevant for the section below: \"Can a single vector index answer questions across years?\"\n",
    "# this generates many calls so run once and then load from index_global directory\n",
    "\n",
    "# global_index = GPTVectorStoreIndex.from_documents(all_docs,\n",
    "#                                                   service_context=service_context)\n",
    "# global_index.storage_context.persist(\"index_global\")\n"
   ]
  },
  {
   "cell_type": "code",
   "execution_count": null,
   "metadata": {},
   "outputs": [],
   "source": [
    "myindex = load_index_from_storage(StorageContext.from_defaults(persist_dir=\"index_md_2022\"))\n"
   ]
  },
  {
   "cell_type": "code",
   "execution_count": null,
   "metadata": {},
   "outputs": [],
   "source": [
    "query_engine = myindex.as_query_engine(retriever_mode=\"embedding\", \n",
    "                                       service_context=service_context,\n",
    "                                       similarity_top_k=3,\n",
    "                                       verbose=True,\n",
    "                                      )\n",
    "query = \"What were some of the biggest risk factors?\"\n",
    "response = query_engine.query(query)\n",
    "print(response)\n"
   ]
  },
  {
   "cell_type": "code",
   "execution_count": null,
   "metadata": {},
   "outputs": [],
   "source": [
    "query = \"What was goodwill?\"\n",
    "response = query_engine.query(query)\n",
    "print(response)\n"
   ]
  },
  {
   "cell_type": "code",
   "execution_count": null,
   "metadata": {},
   "outputs": [],
   "source": [
    "query_all = global_index.as_query_engine(retriever_mode=\"embedding\", \n",
    "                                         service_context=service_context,   \n",
    "                                         similarity_top_k=3,\n",
    "#                                          response_mode=\"tree_summarize\",\n",
    "                                         verbose=True,\n",
    "                                    )\n",
    "risk_query_str = \"What are some of the biggest risk factors in each year?\"\n",
    "response = query_all.query(risk_query_str)\n",
    "print(str(response))\n"
   ]
  },
  {
   "cell_type": "code",
   "execution_count": null,
   "metadata": {},
   "outputs": [],
   "source": [
    "# create summary text for each doc\n",
    "summaries = {}\n",
    "for year in years:\n",
    "    summaries[year] = f\"UBER 10-k Filing for {year} fiscal year\"\n",
    "    "
   ]
  },
  {
   "cell_type": "code",
   "execution_count": null,
   "metadata": {},
   "outputs": [],
   "source": [
    "# set number of output tokens\n",
    "llm_predictor = LLMPredictor(llm=OpenAI(temperature=0, max_tokens=512))\n",
    "service_context = ServiceContext.from_defaults(llm_predictor=llm_predictor)\n"
   ]
  },
  {
   "cell_type": "code",
   "execution_count": null,
   "metadata": {},
   "outputs": [],
   "source": [
    "graph = ComposableGraph.from_indices(\n",
    "    GPTListIndex,\n",
    "    [index_set[y] for y in years],\n",
    "    [summaries[y] for y in years],\n",
    "    service_context=service_context\n",
    ")\n"
   ]
  },
  {
   "cell_type": "code",
   "execution_count": null,
   "metadata": {},
   "outputs": [],
   "source": [
    "custom_query_engines = {\n",
    "    my_index.index_id: my_index.as_query_engine(\n",
    "        similarity_top_k=1,\n",
    "        response_mode=\"tree_summarize\",\n",
    "    )\n",
    "    for my_index in [index_set[y] for y in years]\n",
    "}"
   ]
  },
  {
   "cell_type": "code",
   "execution_count": null,
   "metadata": {},
   "outputs": [],
   "source": [
    "risk_query_str = (\n",
    "    \"Describe the current risk factors. If the year is provided in the information, \"\n",
    "    \"provide that as well. If the context contains risk factors for multiple years, \"\n",
    "    \"explicitly provide the following:\\n\"\n",
    "    \"- A description of the risk factors for each year\\n\"\n",
    "    \"- A summary of how these risk factors are changing across years\"\n",
    ")\n"
   ]
  },
  {
   "cell_type": "code",
   "execution_count": null,
   "metadata": {},
   "outputs": [],
   "source": [
    "query_engine = graph.as_query_engine(custom_query_engines=custom_query_engines)\n",
    "response = query_engine.query(risk_query_str)\n",
    "print(response)"
   ]
  },
  {
   "cell_type": "code",
   "execution_count": null,
   "metadata": {},
   "outputs": [],
   "source": [
    "print(response)"
   ]
  },
  {
   "cell_type": "code",
   "execution_count": null,
   "metadata": {},
   "outputs": [],
   "source": [
    "print(response.get_formatted_sources()[:300])\n"
   ]
  },
  {
   "cell_type": "code",
   "execution_count": null,
   "metadata": {},
   "outputs": [],
   "source": [
    "response_tmp = index_set[2022].as_query_engine(retriever_mode=\"embedding\", \n",
    "                                               service_context=service_context,                                     \n",
    "                                               similarity_top_k=3,\n",
    "                                               verbose=True,\n",
    "                                              ).query(risk_query_str)\n",
    "print(str(response_tmp))\n"
   ]
  },
  {
   "cell_type": "code",
   "execution_count": null,
   "metadata": {},
   "outputs": [],
   "source": [
    "response = global_index.as_query_engine(retriever_mode=\"embedding\", \n",
    "                                        service_context=service_context,   \n",
    "                                        similarity_top_k=4,\n",
    "                                        verbose=True,\n",
    "                                       ).query(risk_query_str)\n",
    "print(str(response))\n"
   ]
  },
  {
   "cell_type": "code",
   "execution_count": null,
   "metadata": {},
   "outputs": [],
   "source": [
    "pn.extension()\n",
    "\n",
    "query_engine = query_all\n",
    "c = 0\n",
    "\n",
    "def pn_callback(_):\n",
    "    prompt = inp.value\n",
    "    inp.value = prompt\n",
    "    response_text = ''\n",
    "    source_text = ''\n",
    "    \n",
    "    if prompt:\n",
    "        response = query_engine.query(prompt)\n",
    "        response_text = response.response\n",
    "        source_text = response.get_formatted_sources()[:300]\n",
    "\n",
    "    panels = []\n",
    "    panels.append(\n",
    "        pn.Row('Question:', pn.pane.Markdown(prompt, width=600)))\n",
    "    panels.append(\n",
    "        pn.Row('Response:', pn.pane.Markdown(response_text, width=600, styles={'background-color': '#F6F6F6'})))\n",
    "    panels.append(\n",
    "        pn.Row('Sources:', pn.pane.Markdown(source_text, width=600, styles={'background-color': '#F6F6F6'})))\n",
    "    \n",
    "    return pn.Column(*panels)\n",
    "\n",
    "inp = pn.widgets.TextAreaInput(height=100,\n",
    "                               width=600,\n",
    "                               value='',\n",
    "                               placeholder='Enter question here…',\n",
    "                              )\n",
    "button_conversation = pn.widgets.Button(name=\"Chat!\")\n",
    "\n",
    "interactive_conversation = pn.bind(pn_callback, button_conversation)\n",
    "\n",
    "\n",
    "dashboard = pn.Column(\n",
    "    inp,\n",
    "    pn.Row(button_conversation),\n",
    "    pn.panel(interactive_conversation, loading_indicator=True, height=300),\n",
    ")\n",
    "\n",
    "dashboard"
   ]
  },
  {
   "cell_type": "code",
   "execution_count": null,
   "metadata": {},
   "outputs": [],
   "source": [
    "# submit questions using a text widget and dropdown for which index to query\n",
    "# todo use textarea\n",
    "# default question to value of risk_query_string\n",
    "# Describe the current risk factors. If the year is provided in the information, provide that as well. If the context contains risk factors for multiple years, explicitly provide the following: A description of the risk factors for each year; A summary of how these risk factors are changing across years\"\n",
    "# add submit button\n",
    "\n",
    "query_2019 = index_set[2019].as_query_engine(retriever_mode=\"embedding\", \n",
    "                                               service_context=service_context,                                     \n",
    "                                               similarity_top_k=3,\n",
    "                                               verbose=True,\n",
    "                                              )\n",
    "query_2020 = index_set[2020].as_query_engine(retriever_mode=\"embedding\", \n",
    "                                               service_context=service_context,                                     \n",
    "                                               similarity_top_k=3,\n",
    "                                               verbose=True,\n",
    "                                              )\n",
    "query_2021 = index_set[2021].as_query_engine(retriever_mode=\"embedding\", \n",
    "                                               service_context=service_context,                                     \n",
    "                                               similarity_top_k=3,\n",
    "                                               verbose=True,\n",
    "                                              )\n",
    "query_2022 = index_set[2022].as_query_engine(retriever_mode=\"embedding\", \n",
    "                                               service_context=service_context,                                     \n",
    "                                               similarity_top_k=3,\n",
    "                                               verbose=True,\n",
    "                                              )\n",
    "query_all = global_index.as_query_engine(retriever_mode=\"embedding\", \n",
    "                                         service_context=service_context,   \n",
    "                                         similarity_top_k=3,\n",
    "#                                          response_mode=\"tree_summarize\",\n",
    "                                         verbose=True,\n",
    "                                         )\n",
    "query_all_graph = graph.as_query_engine(custom_query_engines=custom_query_engines)\n",
    "\n",
    "text = widgets.Text(\n",
    "    value='',\n",
    "    placeholder='Enter prompt',\n",
    "    description='String:',\n",
    "    disabled=False\n",
    ")\n",
    "\n",
    "dd = widgets.Dropdown(\n",
    "    options = [('2019', query_2019), \n",
    "                   ('2020', query_2020), \n",
    "                   ('2021', query_2021), \n",
    "                   ('2022', query_2022), \n",
    "                   ('All years', query_all),\n",
    "                   ('All years using ComposableGraph', query_all_graph)],\n",
    "    index=3,\n",
    "    description='Index:',\n",
    ")\n",
    "\n",
    "def on_change(change):\n",
    "    global dd_val\n",
    "    if change['type'] == 'change' and change['name'] == 'value':\n",
    "        dd_val = change['new']\n",
    "\n",
    "dd.observe(on_change)\n",
    "\n",
    "def callback(wdgt):\n",
    "    query_engine = dd_val\n",
    "    query = wdgt.value\n",
    "    print(\"Thinking...\")\n",
    "    response = query_engine.query(query)\n",
    "    print(response)\n",
    "\n",
    "text.on_submit(callback)\n",
    "\n",
    "display(dd)\n",
    "display(text)\n"
   ]
  },
  {
   "cell_type": "code",
   "execution_count": null,
   "metadata": {},
   "outputs": [],
   "source": [
    "print(risk_query_str)"
   ]
  },
  {
   "cell_type": "code",
   "execution_count": null,
   "metadata": {},
   "outputs": [],
   "source": [
    "import mammoth\n",
    "with open(\"10K.docx\", \"rb\") as docx_file:\n",
    "    result = mammoth.convert_to_markdown(docx_file)\n",
    "with open(\"docx-mammoth.md\", \"w\") as markdown_file:\n",
    "    markdown_file.write(result.value)"
   ]
  },
  {
   "cell_type": "code",
   "execution_count": null,
   "metadata": {},
   "outputs": [],
   "source": [
    "from markdownify import markdownify as md\n",
    "with open(\"10K.html\") as html_file:\n",
    "    html_str = \"\".join(html_file.readlines())\n",
    "with open(\"html-markdownify.md\", \"w\") as markdown_file:\n",
    "    markdown_file.write(md(html_str))\n"
   ]
  },
  {
   "cell_type": "code",
   "execution_count": null,
   "metadata": {},
   "outputs": [],
   "source": [
    "print(md(html_str)[:999])"
   ]
  },
  {
   "cell_type": "code",
   "execution_count": null,
   "metadata": {},
   "outputs": [],
   "source": [
    "import textract\n",
    "text = textract.process(\"10K.docx\")\n",
    "with open(\"docx-textract.md\", \"wb\") as markdown_file:\n",
    "    markdown_file.write(text)"
   ]
  },
  {
   "cell_type": "code",
   "execution_count": null,
   "metadata": {},
   "outputs": [],
   "source": [
    "from unstructured.partition.auto import partition\n",
    "elements = partition(\"10K.pdf\")\n",
    "elements_txt = [e.text for e in elements]\n",
    "with open(\"pdf-unstructured.md\", \"w\") as markdown_file:\n",
    "    markdown_file.write(\"|\\n|\".join(elements_txt))\n"
   ]
  },
  {
   "cell_type": "code",
   "execution_count": null,
   "metadata": {},
   "outputs": [],
   "source": [
    "elements = partition(\"10K.docx\")\n",
    "elements_txt = [e.text for e in elements]\n",
    "with open(\"docx-unstructured.md\", \"w\") as markdown_file:\n",
    "    markdown_file.write(\"|\\n|\".join(elements_txt))\n"
   ]
  },
  {
   "cell_type": "code",
   "execution_count": null,
   "metadata": {},
   "outputs": [],
   "source": [
    "elements[2002].metadata"
   ]
  },
  {
   "cell_type": "code",
   "execution_count": null,
   "metadata": {},
   "outputs": [],
   "source": []
  }
 ],
 "metadata": {
  "kernelspec": {
   "display_name": "qa4",
   "language": "python",
   "name": "qa4"
  },
  "language_info": {
   "codemirror_mode": {
    "name": "ipython",
    "version": 3
   },
   "file_extension": ".py",
   "mimetype": "text/x-python",
   "name": "python",
   "nbconvert_exporter": "python",
   "pygments_lexer": "ipython3",
   "version": "3.10.11"
  }
 },
 "nbformat": 4,
 "nbformat_minor": 4
}
